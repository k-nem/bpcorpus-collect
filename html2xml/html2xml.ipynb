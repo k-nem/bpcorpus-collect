{
 "cells": [
  {
   "cell_type": "code",
   "execution_count": 2,
   "id": "ccbad0a3",
   "metadata": {},
   "outputs": [],
   "source": [
    "import os\n",
    "import re\n",
    "from bs4 import BeautifulSoup"
   ]
  },
  {
   "cell_type": "code",
   "execution_count": 3,
   "id": "a9bc952d",
   "metadata": {},
   "outputs": [
    {
     "name": "stdout",
     "output_type": "stream",
     "text": [
      "003_0008.html   html2xml.ipynb\r\n"
     ]
    }
   ],
   "source": [
    "ls"
   ]
  },
  {
   "cell_type": "code",
   "execution_count": 4,
   "id": "5cef4c5a",
   "metadata": {},
   "outputs": [],
   "source": [
    "file = '003_0008.html'"
   ]
  },
  {
   "cell_type": "code",
   "execution_count": 5,
   "id": "4011bdf4",
   "metadata": {},
   "outputs": [],
   "source": [
    "with open(file,'r') as f:\n",
    "    lines = f.readlines()\n",
    "    f.seek(0)\n",
    "    raw = f.read()"
   ]
  },
  {
   "cell_type": "code",
   "execution_count": 6,
   "id": "42adfa63",
   "metadata": {},
   "outputs": [
    {
     "data": {
      "text/plain": [
       "'<div class=\"container\">\\n<div class=\"book-utils\">\\n<div id=\"qrcode\"></div>\\n<a href=\"/Jan_Barsceuski/Za'"
      ]
     },
     "execution_count": 6,
     "metadata": {},
     "output_type": "execute_result"
    }
   ],
   "source": [
    "raw[:100]"
   ]
  },
  {
   "cell_type": "code",
   "execution_count": 7,
   "id": "19973914",
   "metadata": {},
   "outputs": [
    {
     "data": {
      "text/plain": [
       "['<div class=\"container\">\\n',\n",
       " '<div class=\"book-utils\">\\n',\n",
       " '<div id=\"qrcode\"></div>\\n',\n",
       " '<a href=\"/Jan_Barsceuski/Zaroslaje_voziera.epub\">epub</a>\\n',\n",
       " '<div>\\xa0</div>\\n',\n",
       " '<div style=\"vertical-align: middle\">\\n',\n",
       " '<label class=\"switch\">\\n',\n",
       " '<input id=\"dictSwitch\" type=\"checkbox\"/>\\n',\n",
       " '<span class=\"slider round\"></span>\\n',\n",
       " '</label>\\n',\n",
       " '</div>\\n',\n",
       " '<div id=\"nodictLabel\">Падключыць<br/>слоўнікі</div>\\n',\n",
       " '<div id=\"dictLabel\" style=\"display: none\">Націскайце на<br/>словы ў тэксце</div>\\n',\n",
       " '</div>\\n',\n",
       " '<!-- HEADER_FIELD Authors: Ян Баршчэўскі -->\\n',\n",
       " '<!-- HEADER_FIELD CreationYear: 1842 -->\\n',\n",
       " '<!-- HEADER_FIELD Edition: Ян Баршчэўскі. Выбраныя творы. Менск, МФ «Беларускі кнігазбор», 1998. -->\\n',\n",
       " '<!-- HEADER_FIELD FirstPublicationYear: 1843 -->\\n',\n",
       " '<!-- HEADER_FIELD LangOrig: pol -->\\n',\n",
       " '<!-- HEADER_FIELD Pravapis: A1957 -->\\n',\n",
       " '<!-- HEADER_FIELD PublicationYear: 1998 -->\\n',\n",
       " '<!-- HEADER_FIELD SectionAuthor: Балады -->\\n',\n",
       " '<!-- HEADER_FIELD StyleGenre: мастацкі/балада -->\\n',\n",
       " '<!-- HEADER_FIELD Title: Зарослае возера -->\\n',\n",
       " '<!-- HEADER_FIELD Title2: Балада з народных паданняў -->\\n',\n",
       " '<!-- HEADER_FIELD Translation: Уладзімір Мархель -->\\n',\n",
       " '<h2><a href=\"http://knihi.com/Jan_Barsceuski/\">Ян Баршчэўскі</a></h2>\\n',\n",
       " '<h2>Зарослае возера</h2>\\n',\n",
       " '<h2 class=\"title2\">Балада з народных паданняў</h2>\\n',\n",
       " '<div style=\"height: 3rem\"></div>\\n']"
      ]
     },
     "execution_count": 7,
     "metadata": {},
     "output_type": "execute_result"
    }
   ],
   "source": [
    "lines[:30]"
   ]
  },
  {
   "cell_type": "code",
   "execution_count": 8,
   "id": "5bcc1ef7",
   "metadata": {},
   "outputs": [],
   "source": [
    "def meta(file): \n",
    "    with open(file,'r') as f:\n",
    "        raw = f.read()\n",
    "        \n",
    "    metadict = {}\n",
    "    ptrn = re.compile('(?<=<!-- HEADER_FIELD ).*(?= -->)')\n",
    "    meta = re.findall(ptrn, raw)\n",
    "\n",
    "    if meta: \n",
    "        for m in meta:\n",
    "            metadict[m.split(':')[0]] = m.split(':')[1].lstrip()\n",
    "            \n",
    "    return metadict"
   ]
  },
  {
   "cell_type": "code",
   "execution_count": 9,
   "id": "9142aadf",
   "metadata": {},
   "outputs": [
    {
     "data": {
      "text/plain": [
       "{'Authors': 'Ян Баршчэўскі',\n",
       " 'CreationYear': '1842',\n",
       " 'Edition': 'Ян Баршчэўскі. Выбраныя творы. Менск, МФ «Беларускі кнігазбор», 1998.',\n",
       " 'FirstPublicationYear': '1843',\n",
       " 'LangOrig': 'pol',\n",
       " 'Pravapis': 'A1957',\n",
       " 'PublicationYear': '1998',\n",
       " 'SectionAuthor': 'Балады',\n",
       " 'StyleGenre': 'мастацкі/балада',\n",
       " 'Title': 'Зарослае возера',\n",
       " 'Title2': 'Балада з народных паданняў',\n",
       " 'Translation': 'Уладзімір Мархель'}"
      ]
     },
     "execution_count": 9,
     "metadata": {},
     "output_type": "execute_result"
    }
   ],
   "source": [
    "meta(file)"
   ]
  },
  {
   "cell_type": "code",
   "execution_count": 10,
   "id": "ea9f9dca",
   "metadata": {},
   "outputs": [
    {
     "data": {
      "text/plain": [
       "'Ян Баршчэўскі'"
      ]
     },
     "execution_count": 10,
     "metadata": {},
     "output_type": "execute_result"
    }
   ],
   "source": [
    "meta(file)['Authors']"
   ]
  },
  {
   "cell_type": "code",
   "execution_count": 11,
   "id": "3e955a04",
   "metadata": {},
   "outputs": [],
   "source": [
    "def lines(raw):\n",
    "    soup = BeautifulSoup(raw,'html.parser')\n",
    "    text = soup.find('div', {'class': 'POETRY'})\n",
    "    lines = [l.getText().strip() for l in text.find_all('p')]\n",
    "    \n",
    "    return lines\n",
    "\n",
    "def struct(raw):\n",
    "    structure = []\n",
    "    stanza = []\n",
    "\n",
    "    for i,line in enumerate(getlines(raw)):\n",
    "\n",
    "        if i == 0 and not line:\n",
    "            continue\n",
    "        \n",
    "        if line:\n",
    "            stanza.append(line)\n",
    "\n",
    "        else:\n",
    "            structure.append(stanza)\n",
    "            stanza = []\n",
    "\n",
    "    return structure"
   ]
  },
  {
   "cell_type": "code",
   "execution_count": 12,
   "id": "99a57283",
   "metadata": {},
   "outputs": [
    {
     "ename": "NameError",
     "evalue": "name 'getlines' is not defined",
     "output_type": "error",
     "traceback": [
      "\u001b[0;31m---------------------------------------------------------------------------\u001b[0m",
      "\u001b[0;31mNameError\u001b[0m                                 Traceback (most recent call last)",
      "\u001b[0;32m<ipython-input-12-5c2578b6189f>\u001b[0m in \u001b[0;36m<module>\u001b[0;34m\u001b[0m\n\u001b[0;32m----> 1\u001b[0;31m \u001b[0mstruct\u001b[0m\u001b[0;34m(\u001b[0m\u001b[0mraw\u001b[0m\u001b[0;34m)\u001b[0m\u001b[0;34m\u001b[0m\u001b[0;34m\u001b[0m\u001b[0m\n\u001b[0m",
      "\u001b[0;32m<ipython-input-11-0663fefb6e95>\u001b[0m in \u001b[0;36mstruct\u001b[0;34m(raw)\u001b[0m\n\u001b[1;32m     10\u001b[0m     \u001b[0mstanza\u001b[0m \u001b[0;34m=\u001b[0m \u001b[0;34m[\u001b[0m\u001b[0;34m]\u001b[0m\u001b[0;34m\u001b[0m\u001b[0;34m\u001b[0m\u001b[0m\n\u001b[1;32m     11\u001b[0m \u001b[0;34m\u001b[0m\u001b[0m\n\u001b[0;32m---> 12\u001b[0;31m     \u001b[0;32mfor\u001b[0m \u001b[0mi\u001b[0m\u001b[0;34m,\u001b[0m\u001b[0mline\u001b[0m \u001b[0;32min\u001b[0m \u001b[0menumerate\u001b[0m\u001b[0;34m(\u001b[0m\u001b[0mgetlines\u001b[0m\u001b[0;34m(\u001b[0m\u001b[0mraw\u001b[0m\u001b[0;34m)\u001b[0m\u001b[0;34m)\u001b[0m\u001b[0;34m:\u001b[0m\u001b[0;34m\u001b[0m\u001b[0;34m\u001b[0m\u001b[0m\n\u001b[0m\u001b[1;32m     13\u001b[0m \u001b[0;34m\u001b[0m\u001b[0m\n\u001b[1;32m     14\u001b[0m         \u001b[0;32mif\u001b[0m \u001b[0mi\u001b[0m \u001b[0;34m==\u001b[0m \u001b[0;36m0\u001b[0m \u001b[0;32mand\u001b[0m \u001b[0;32mnot\u001b[0m \u001b[0mline\u001b[0m\u001b[0;34m:\u001b[0m\u001b[0;34m\u001b[0m\u001b[0;34m\u001b[0m\u001b[0m\n",
      "\u001b[0;31mNameError\u001b[0m: name 'getlines' is not defined"
     ]
    }
   ],
   "source": [
    "struct(raw)"
   ]
  },
  {
   "cell_type": "code",
   "execution_count": 13,
   "id": "f80d0624",
   "metadata": {},
   "outputs": [
    {
     "ename": "NameError",
     "evalue": "name 'getlines' is not defined",
     "output_type": "error",
     "traceback": [
      "\u001b[0;31m---------------------------------------------------------------------------\u001b[0m",
      "\u001b[0;31mNameError\u001b[0m                                 Traceback (most recent call last)",
      "\u001b[0;32m<ipython-input-13-b9df0d9d3046>\u001b[0m in \u001b[0;36m<module>\u001b[0;34m\u001b[0m\n\u001b[1;32m     15\u001b[0m \u001b[0;34m\u001b[0m\u001b[0m\n\u001b[1;32m     16\u001b[0m \u001b[0;34m\u001b[0m\u001b[0m\n\u001b[0;32m---> 17\u001b[0;31m \u001b[0;32mfor\u001b[0m \u001b[0mstanza\u001b[0m \u001b[0;32min\u001b[0m \u001b[0mstruct\u001b[0m\u001b[0;34m(\u001b[0m\u001b[0mraw\u001b[0m\u001b[0;34m)\u001b[0m\u001b[0;34m:\u001b[0m\u001b[0;34m\u001b[0m\u001b[0;34m\u001b[0m\u001b[0m\n\u001b[0m\u001b[1;32m     18\u001b[0m     \u001b[0;32mif\u001b[0m \u001b[0mlen\u001b[0m\u001b[0;34m(\u001b[0m\u001b[0mstanza\u001b[0m\u001b[0;34m)\u001b[0m \u001b[0;34m==\u001b[0m \u001b[0;36m4\u001b[0m\u001b[0;34m:\u001b[0m\u001b[0;34m\u001b[0m\u001b[0;34m\u001b[0m\u001b[0m\n\u001b[1;32m     19\u001b[0m         \u001b[0mst\u001b[0m \u001b[0;34m=\u001b[0m \u001b[0mnewtree\u001b[0m\u001b[0;34m.\u001b[0m\u001b[0mnew_tag\u001b[0m\u001b[0;34m(\u001b[0m\u001b[0;34m'lg'\u001b[0m\u001b[0;34m,\u001b[0m \u001b[0mtype\u001b[0m \u001b[0;34m=\u001b[0m \u001b[0;34m'quatrain'\u001b[0m\u001b[0;34m)\u001b[0m\u001b[0;34m\u001b[0m\u001b[0;34m\u001b[0m\u001b[0m\n",
      "\u001b[0;32m<ipython-input-11-0663fefb6e95>\u001b[0m in \u001b[0;36mstruct\u001b[0;34m(raw)\u001b[0m\n\u001b[1;32m     10\u001b[0m     \u001b[0mstanza\u001b[0m \u001b[0;34m=\u001b[0m \u001b[0;34m[\u001b[0m\u001b[0;34m]\u001b[0m\u001b[0;34m\u001b[0m\u001b[0;34m\u001b[0m\u001b[0m\n\u001b[1;32m     11\u001b[0m \u001b[0;34m\u001b[0m\u001b[0m\n\u001b[0;32m---> 12\u001b[0;31m     \u001b[0;32mfor\u001b[0m \u001b[0mi\u001b[0m\u001b[0;34m,\u001b[0m\u001b[0mline\u001b[0m \u001b[0;32min\u001b[0m \u001b[0menumerate\u001b[0m\u001b[0;34m(\u001b[0m\u001b[0mgetlines\u001b[0m\u001b[0;34m(\u001b[0m\u001b[0mraw\u001b[0m\u001b[0;34m)\u001b[0m\u001b[0;34m)\u001b[0m\u001b[0;34m:\u001b[0m\u001b[0;34m\u001b[0m\u001b[0;34m\u001b[0m\u001b[0m\n\u001b[0m\u001b[1;32m     13\u001b[0m \u001b[0;34m\u001b[0m\u001b[0m\n\u001b[1;32m     14\u001b[0m         \u001b[0;32mif\u001b[0m \u001b[0mi\u001b[0m \u001b[0;34m==\u001b[0m \u001b[0;36m0\u001b[0m \u001b[0;32mand\u001b[0m \u001b[0;32mnot\u001b[0m \u001b[0mline\u001b[0m\u001b[0;34m:\u001b[0m\u001b[0;34m\u001b[0m\u001b[0;34m\u001b[0m\u001b[0m\n",
      "\u001b[0;31mNameError\u001b[0m: name 'getlines' is not defined"
     ]
    }
   ],
   "source": [
    "newtree = BeautifulSoup('', 'xml')\n",
    "\n",
    "newtree.append(newtree.new_tag('TEI'))\n",
    "\n",
    "head = newtree.new_tag('teiHeader')\n",
    "newtree.TEI.append(head)\n",
    "\n",
    "author = newtree.new_tag('author')\n",
    "author.string = meta(file)['Authors']\n",
    "newtree.teiHeader.append(author)\n",
    "\n",
    "\n",
    "body = newtree.new_tag('body')\n",
    "newtree.TEI.append(body)\n",
    "\n",
    "\n",
    "for stanza in struct(raw):\n",
    "    if len(stanza) == 4:\n",
    "        st = newtree.new_tag('lg', type = 'quatrain')\n",
    "        \n",
    "    else:\n",
    "        st = newtree.new_tag('lg')\n",
    "    \n",
    "    for l in stanza:\n",
    "        line = newtree.new_tag('l')\n",
    "        line.string = l\n",
    "        st.append(line)\n",
    "        \n",
    "    newtree.body.append(st)\n",
    "        \n",
    "newtree"
   ]
  },
  {
   "cell_type": "code",
   "execution_count": 14,
   "id": "4f31b6b6",
   "metadata": {},
   "outputs": [
    {
     "data": {
      "text/plain": [
       "<teiHeader><author>Ян Баршчэўскі</author></teiHeader>"
      ]
     },
     "execution_count": 14,
     "metadata": {},
     "output_type": "execute_result"
    }
   ],
   "source": [
    "newtree.TEI.teiHeader"
   ]
  },
  {
   "cell_type": "code",
   "execution_count": 15,
   "id": "e01ff648",
   "metadata": {},
   "outputs": [
    {
     "data": {
      "text/plain": [
       "<body/>"
      ]
     },
     "execution_count": 15,
     "metadata": {},
     "output_type": "execute_result"
    }
   ],
   "source": [
    "newtree.TEI.body"
   ]
  },
  {
   "cell_type": "code",
   "execution_count": 16,
   "id": "def85763",
   "metadata": {},
   "outputs": [
    {
     "data": {
      "text/plain": [
       "[]"
      ]
     },
     "execution_count": 16,
     "metadata": {},
     "output_type": "execute_result"
    }
   ],
   "source": [
    "newtree.TEI.body.find_all('l')"
   ]
  },
  {
   "cell_type": "code",
   "execution_count": null,
   "id": "94125d38",
   "metadata": {},
   "outputs": [],
   "source": []
  }
 ],
 "metadata": {
  "kernelspec": {
   "display_name": "Python 3",
   "language": "python",
   "name": "python3"
  },
  "language_info": {
   "codemirror_mode": {
    "name": "ipython",
    "version": 3
   },
   "file_extension": ".py",
   "mimetype": "text/x-python",
   "name": "python",
   "nbconvert_exporter": "python",
   "pygments_lexer": "ipython3",
   "version": "3.7.3"
  }
 },
 "nbformat": 4,
 "nbformat_minor": 5
}
